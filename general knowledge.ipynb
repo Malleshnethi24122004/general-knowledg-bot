{
 "cells": [
  {
   "cell_type": "code",
   "execution_count": null,
   "id": "5e121846-3cbf-4d84-99c3-32c5e067dbf8",
   "metadata": {},
   "outputs": [],
   "source": [
    "!pip install openai langchain faiss-cpu numpy pandas requests tqdm fastapi uvicorn langchain-community\n"
   ]
  },
  {
   "cell_type": "code",
   "execution_count": 3,
   "id": "6623757f-d5a4-4c7d-9d74-f9c4c0426b87",
   "metadata": {},
   "outputs": [],
   "source": [
    "from langchain.document_loaders import PyMuPDFLoader\n",
    "from langchain.text_splitter import RecursiveCharacterTextSplitter\n",
    "from langchain.embeddings.openai import OpenAIEmbeddings\n",
    "from langchain.vectorstores import FAISS\n",
    "import os\n",
    "from dotenv import load_dotenv\n",
    "load_dotenv()\n",
    "os.environ[\"OPENAI_API_KEY\"] = os.getenv(\"OPENAI_API_KEY\")"
   ]
  },
  {
   "cell_type": "code",
   "execution_count": 4,
   "id": "f5a07afa-c58d-4f6e-bcc0-e9b54e0ab331",
   "metadata": {},
   "outputs": [],
   "source": [
    "from langchain_openai import ChatOpenAI\n",
    "from langchain_openai import OpenAIEmbeddings"
   ]
  },
  {
   "cell_type": "code",
   "execution_count": 5,
   "id": "0fdcaddc-27dc-4c66-b411-0aa0465ee79f",
   "metadata": {},
   "outputs": [],
   "source": [
    "embedding_model = OpenAIEmbeddings(openai_api_key=os.getenv(\"OPENAI_API_KEY\"))"
   ]
  },
  {
   "cell_type": "code",
   "execution_count": 6,
   "id": "f7901a72-6355-422d-8461-8dd972800b58",
   "metadata": {},
   "outputs": [],
   "source": [
    "def load_and_split_document(file_path):\n",
    "    # Load the document\n",
    "    loader = PyMuPDFLoader(file_path)\n",
    "    documents = loader.load()\n",
    "\n",
    "    # Split the document into chunks\n",
    "    text_splitter = RecursiveCharacterTextSplitter(chunk_size=500, chunk_overlap=20)\n",
    "    text_chunks = text_splitter.split_documents(documents)\n",
    "    return text_chunks"
   ]
  },
  {
   "cell_type": "code",
   "execution_count": 7,
   "id": "95034b35-df99-4b30-9536-84378961d2fb",
   "metadata": {},
   "outputs": [],
   "source": [
    "def initialize_vector_db(text_chunks, embedding_model):\n",
    "    # Generate embeddings for the text chunks\n",
    "    vector_db = FAISS.from_documents(text_chunks, embedding_model)\n",
    "    # Save the vector store for later use\n",
    "    vector_db.save_local(r\"C:\\Users\\DELL\\Downloads\\vector_store\")\n",
    "    return vector_db"
   ]
  },
  {
   "cell_type": "code",
   "execution_count": 8,
   "id": "231cf98f-f7d9-4c81-862a-3a57379a0052",
   "metadata": {
    "scrolled": true
   },
   "outputs": [
    {
     "name": "stdout",
     "output_type": "stream",
     "text": [
      "Requirement already satisfied: pymupdf in c:\\users\\dell\\appdata\\local\\programs\\python\\python312\\lib\\site-packages (1.24.9)\n",
      "Requirement already satisfied: PyMuPDFb==1.24.9 in c:\\users\\dell\\appdata\\local\\programs\\python\\python312\\lib\\site-packages (from pymupdf) (1.24.9)\n",
      "Note: you may need to restart the kernel to use updated packages.\n"
     ]
    }
   ],
   "source": [
    "pip install pymupdf\n"
   ]
  },
  {
   "cell_type": "code",
   "execution_count": 9,
   "id": "403bf57b-c257-41b7-be02-433cc09fb03d",
   "metadata": {
    "scrolled": true
   },
   "outputs": [
    {
     "name": "stdout",
     "output_type": "stream",
     "text": [
      "Requirement already satisfied: tiktoken in c:\\users\\dell\\appdata\\local\\programs\\python\\python312\\lib\\site-packages (0.7.0)\n",
      "Requirement already satisfied: regex>=2022.1.18 in c:\\users\\dell\\appdata\\local\\programs\\python\\python312\\lib\\site-packages (from tiktoken) (2023.12.25)\n",
      "Requirement already satisfied: requests>=2.26.0 in c:\\users\\dell\\appdata\\local\\programs\\python\\python312\\lib\\site-packages (from tiktoken) (2.32.3)\n",
      "Requirement already satisfied: charset-normalizer<4,>=2 in c:\\users\\dell\\appdata\\local\\programs\\python\\python312\\lib\\site-packages (from requests>=2.26.0->tiktoken) (3.3.2)\n",
      "Requirement already satisfied: idna<4,>=2.5 in c:\\users\\dell\\appdata\\local\\programs\\python\\python312\\lib\\site-packages (from requests>=2.26.0->tiktoken) (3.7)\n",
      "Requirement already satisfied: urllib3<3,>=1.21.1 in c:\\users\\dell\\appdata\\local\\programs\\python\\python312\\lib\\site-packages (from requests>=2.26.0->tiktoken) (2.2.2)\n",
      "Requirement already satisfied: certifi>=2017.4.17 in c:\\users\\dell\\appdata\\local\\programs\\python\\python312\\lib\\site-packages (from requests>=2.26.0->tiktoken) (2024.7.4)\n",
      "Requirement already satisfied: langchain-openai in c:\\users\\dell\\appdata\\local\\programs\\python\\python312\\lib\\site-packages (0.1.23)\n",
      "Requirement already satisfied: faiss-cpu in c:\\users\\dell\\appdata\\local\\programs\\python\\python312\\lib\\site-packages (1.8.0.post1)\n",
      "Requirement already satisfied: langchain-core<0.3.0,>=0.2.35 in c:\\users\\dell\\appdata\\local\\programs\\python\\python312\\lib\\site-packages (from langchain-openai) (0.2.37)\n",
      "Requirement already satisfied: openai<2.0.0,>=1.40.0 in c:\\users\\dell\\appdata\\local\\programs\\python\\python312\\lib\\site-packages (from langchain-openai) (1.40.3)\n",
      "Requirement already satisfied: tiktoken<1,>=0.7 in c:\\users\\dell\\appdata\\local\\programs\\python\\python312\\lib\\site-packages (from langchain-openai) (0.7.0)\n",
      "Requirement already satisfied: numpy<2.0,>=1.0 in c:\\users\\dell\\appdata\\local\\programs\\python\\python312\\lib\\site-packages (from faiss-cpu) (1.26.4)\n",
      "Requirement already satisfied: packaging in c:\\users\\dell\\appdata\\local\\programs\\python\\python312\\lib\\site-packages (from faiss-cpu) (24.1)\n",
      "Requirement already satisfied: PyYAML>=5.3 in c:\\users\\dell\\appdata\\local\\programs\\python\\python312\\lib\\site-packages (from langchain-core<0.3.0,>=0.2.35->langchain-openai) (6.0.1)\n",
      "Requirement already satisfied: jsonpatch<2.0,>=1.33 in c:\\users\\dell\\appdata\\local\\programs\\python\\python312\\lib\\site-packages (from langchain-core<0.3.0,>=0.2.35->langchain-openai) (1.33)\n",
      "Requirement already satisfied: langsmith<0.2.0,>=0.1.75 in c:\\users\\dell\\appdata\\local\\programs\\python\\python312\\lib\\site-packages (from langchain-core<0.3.0,>=0.2.35->langchain-openai) (0.1.108)\n",
      "Requirement already satisfied: pydantic<3.0.0,>=2.7.4 in c:\\users\\dell\\appdata\\local\\programs\\python\\python312\\lib\\site-packages (from langchain-core<0.3.0,>=0.2.35->langchain-openai) (2.8.2)\n",
      "Requirement already satisfied: tenacity!=8.4.0,<9.0.0,>=8.1.0 in c:\\users\\dell\\appdata\\local\\programs\\python\\python312\\lib\\site-packages (from langchain-core<0.3.0,>=0.2.35->langchain-openai) (8.5.0)\n",
      "Requirement already satisfied: typing-extensions>=4.7 in c:\\users\\dell\\appdata\\local\\programs\\python\\python312\\lib\\site-packages (from langchain-core<0.3.0,>=0.2.35->langchain-openai) (4.12.2)\n",
      "Requirement already satisfied: anyio<5,>=3.5.0 in c:\\users\\dell\\appdata\\local\\programs\\python\\python312\\lib\\site-packages (from openai<2.0.0,>=1.40.0->langchain-openai) (4.4.0)\n",
      "Requirement already satisfied: distro<2,>=1.7.0 in c:\\users\\dell\\appdata\\local\\programs\\python\\python312\\lib\\site-packages (from openai<2.0.0,>=1.40.0->langchain-openai) (1.9.0)\n",
      "Requirement already satisfied: httpx<1,>=0.23.0 in c:\\users\\dell\\appdata\\local\\programs\\python\\python312\\lib\\site-packages (from openai<2.0.0,>=1.40.0->langchain-openai) (0.27.0)\n",
      "Requirement already satisfied: jiter<1,>=0.4.0 in c:\\users\\dell\\appdata\\local\\programs\\python\\python312\\lib\\site-packages (from openai<2.0.0,>=1.40.0->langchain-openai) (0.4.2)\n",
      "Requirement already satisfied: sniffio in c:\\users\\dell\\appdata\\local\\programs\\python\\python312\\lib\\site-packages (from openai<2.0.0,>=1.40.0->langchain-openai) (1.3.1)\n",
      "Requirement already satisfied: tqdm>4 in c:\\users\\dell\\appdata\\local\\programs\\python\\python312\\lib\\site-packages (from openai<2.0.0,>=1.40.0->langchain-openai) (4.66.5)\n",
      "Requirement already satisfied: regex>=2022.1.18 in c:\\users\\dell\\appdata\\local\\programs\\python\\python312\\lib\\site-packages (from tiktoken<1,>=0.7->langchain-openai) (2023.12.25)\n",
      "Requirement already satisfied: requests>=2.26.0 in c:\\users\\dell\\appdata\\local\\programs\\python\\python312\\lib\\site-packages (from tiktoken<1,>=0.7->langchain-openai) (2.32.3)\n",
      "Requirement already satisfied: idna>=2.8 in c:\\users\\dell\\appdata\\local\\programs\\python\\python312\\lib\\site-packages (from anyio<5,>=3.5.0->openai<2.0.0,>=1.40.0->langchain-openai) (3.7)\n",
      "Requirement already satisfied: certifi in c:\\users\\dell\\appdata\\local\\programs\\python\\python312\\lib\\site-packages (from httpx<1,>=0.23.0->openai<2.0.0,>=1.40.0->langchain-openai) (2024.7.4)\n",
      "Requirement already satisfied: httpcore==1.* in c:\\users\\dell\\appdata\\local\\programs\\python\\python312\\lib\\site-packages (from httpx<1,>=0.23.0->openai<2.0.0,>=1.40.0->langchain-openai) (1.0.5)\n",
      "Requirement already satisfied: h11<0.15,>=0.13 in c:\\users\\dell\\appdata\\local\\programs\\python\\python312\\lib\\site-packages (from httpcore==1.*->httpx<1,>=0.23.0->openai<2.0.0,>=1.40.0->langchain-openai) (0.14.0)\n",
      "Requirement already satisfied: jsonpointer>=1.9 in c:\\users\\dell\\appdata\\local\\programs\\python\\python312\\lib\\site-packages (from jsonpatch<2.0,>=1.33->langchain-core<0.3.0,>=0.2.35->langchain-openai) (3.0.0)\n",
      "Requirement already satisfied: orjson<4.0.0,>=3.9.14 in c:\\users\\dell\\appdata\\local\\programs\\python\\python312\\lib\\site-packages (from langsmith<0.2.0,>=0.1.75->langchain-core<0.3.0,>=0.2.35->langchain-openai) (3.10.6)\n",
      "Requirement already satisfied: annotated-types>=0.4.0 in c:\\users\\dell\\appdata\\local\\programs\\python\\python312\\lib\\site-packages (from pydantic<3.0.0,>=2.7.4->langchain-core<0.3.0,>=0.2.35->langchain-openai) (0.7.0)\n",
      "Requirement already satisfied: pydantic-core==2.20.1 in c:\\users\\dell\\appdata\\local\\programs\\python\\python312\\lib\\site-packages (from pydantic<3.0.0,>=2.7.4->langchain-core<0.3.0,>=0.2.35->langchain-openai) (2.20.1)\n",
      "Requirement already satisfied: charset-normalizer<4,>=2 in c:\\users\\dell\\appdata\\local\\programs\\python\\python312\\lib\\site-packages (from requests>=2.26.0->tiktoken<1,>=0.7->langchain-openai) (3.3.2)\n",
      "Requirement already satisfied: urllib3<3,>=1.21.1 in c:\\users\\dell\\appdata\\local\\programs\\python\\python312\\lib\\site-packages (from requests>=2.26.0->tiktoken<1,>=0.7->langchain-openai) (2.2.2)\n",
      "Requirement already satisfied: colorama in c:\\users\\dell\\appdata\\local\\programs\\python\\python312\\lib\\site-packages (from tqdm>4->openai<2.0.0,>=1.40.0->langchain-openai) (0.4.6)\n"
     ]
    }
   ],
   "source": [
    "!pip install tiktoken\n",
    "!pip install -U langchain-openai faiss-cpu"
   ]
  },
  {
   "cell_type": "code",
   "execution_count": 10,
   "id": "79795cae-1620-49ec-ada7-43bf7a60b850",
   "metadata": {},
   "outputs": [],
   "source": [
    "file_path = r\"D:\\\\advanced\\\\mccp-java\\\\Students Encyclopedia of General Knowledge.pdf\"\n",
    "text_chunks = load_and_split_document(file_path)\n",
    "embedding_model = OpenAIEmbeddings()\n",
    "vector_db = initialize_vector_db(text_chunks, embedding_model)"
   ]
  },
  {
   "cell_type": "code",
   "execution_count": 11,
   "id": "0a5b2fb0-08bd-4027-9c96-9990990ac552",
   "metadata": {},
   "outputs": [],
   "source": [
    "from langchain.chains import RetrievalQA\n",
    "from langchain.chat_models import ChatOpenAI"
   ]
  },
  {
   "cell_type": "code",
   "execution_count": 12,
   "id": "baf9b282-d256-43f6-b377-7dce33eee55b",
   "metadata": {},
   "outputs": [],
   "source": [
    "def retrieve_and_answer(vector_db, query, llm_model):\n",
    "    # Create a retrieval-based QA chain\n",
    "    qa_chain = RetrievalQA.from_chain_type(\n",
    "        llm=llm_model,\n",
    "        retriever=vector_db.as_retriever(search_type=\"similarity\", k=1)\n",
    "    )\n",
    "    # Process a user query\n",
    "    return qa_chain.run(query)"
   ]
  },
  {
   "cell_type": "code",
   "execution_count": 13,
   "id": "5b5e1594-0d3e-40cf-a7e9-f0ae9b11fcab",
   "metadata": {
    "scrolled": true
   },
   "outputs": [
    {
     "name": "stdout",
     "output_type": "stream",
     "text": [
      "Requirement already satisfied: langchain-experimental in c:\\users\\dell\\appdata\\local\\programs\\python\\python312\\lib\\site-packages (0.0.64)\n",
      "Requirement already satisfied: langchain-community<0.3.0,>=0.2.10 in c:\\users\\dell\\appdata\\local\\programs\\python\\python312\\lib\\site-packages (from langchain-experimental) (0.2.11)\n",
      "Requirement already satisfied: langchain-core<0.3.0,>=0.2.27 in c:\\users\\dell\\appdata\\local\\programs\\python\\python312\\lib\\site-packages (from langchain-experimental) (0.2.37)\n",
      "Requirement already satisfied: PyYAML>=5.3 in c:\\users\\dell\\appdata\\local\\programs\\python\\python312\\lib\\site-packages (from langchain-community<0.3.0,>=0.2.10->langchain-experimental) (6.0.1)\n",
      "Requirement already satisfied: SQLAlchemy<3,>=1.4 in c:\\users\\dell\\appdata\\local\\programs\\python\\python312\\lib\\site-packages (from langchain-community<0.3.0,>=0.2.10->langchain-experimental) (2.0.31)\n",
      "Requirement already satisfied: aiohttp<4.0.0,>=3.8.3 in c:\\users\\dell\\appdata\\local\\programs\\python\\python312\\lib\\site-packages (from langchain-community<0.3.0,>=0.2.10->langchain-experimental) (3.10.0)\n",
      "Requirement already satisfied: dataclasses-json<0.7,>=0.5.7 in c:\\users\\dell\\appdata\\local\\programs\\python\\python312\\lib\\site-packages (from langchain-community<0.3.0,>=0.2.10->langchain-experimental) (0.6.7)\n",
      "Requirement already satisfied: langchain<0.3.0,>=0.2.12 in c:\\users\\dell\\appdata\\local\\programs\\python\\python312\\lib\\site-packages (from langchain-community<0.3.0,>=0.2.10->langchain-experimental) (0.2.13)\n",
      "Requirement already satisfied: langsmith<0.2.0,>=0.1.0 in c:\\users\\dell\\appdata\\local\\programs\\python\\python312\\lib\\site-packages (from langchain-community<0.3.0,>=0.2.10->langchain-experimental) (0.1.108)\n",
      "Requirement already satisfied: numpy<2.0.0,>=1.26.0 in c:\\users\\dell\\appdata\\local\\programs\\python\\python312\\lib\\site-packages (from langchain-community<0.3.0,>=0.2.10->langchain-experimental) (1.26.4)\n",
      "Requirement already satisfied: requests<3,>=2 in c:\\users\\dell\\appdata\\local\\programs\\python\\python312\\lib\\site-packages (from langchain-community<0.3.0,>=0.2.10->langchain-experimental) (2.32.3)\n",
      "Requirement already satisfied: tenacity!=8.4.0,<9.0.0,>=8.1.0 in c:\\users\\dell\\appdata\\local\\programs\\python\\python312\\lib\\site-packages (from langchain-community<0.3.0,>=0.2.10->langchain-experimental) (8.5.0)\n",
      "Requirement already satisfied: jsonpatch<2.0,>=1.33 in c:\\users\\dell\\appdata\\local\\programs\\python\\python312\\lib\\site-packages (from langchain-core<0.3.0,>=0.2.27->langchain-experimental) (1.33)\n",
      "Requirement already satisfied: packaging<25,>=23.2 in c:\\users\\dell\\appdata\\local\\programs\\python\\python312\\lib\\site-packages (from langchain-core<0.3.0,>=0.2.27->langchain-experimental) (24.1)\n",
      "Requirement already satisfied: pydantic<3.0.0,>=2.7.4 in c:\\users\\dell\\appdata\\local\\programs\\python\\python312\\lib\\site-packages (from langchain-core<0.3.0,>=0.2.27->langchain-experimental) (2.8.2)\n",
      "Requirement already satisfied: typing-extensions>=4.7 in c:\\users\\dell\\appdata\\local\\programs\\python\\python312\\lib\\site-packages (from langchain-core<0.3.0,>=0.2.27->langchain-experimental) (4.12.2)\n",
      "Requirement already satisfied: aiohappyeyeballs>=2.3.0 in c:\\users\\dell\\appdata\\local\\programs\\python\\python312\\lib\\site-packages (from aiohttp<4.0.0,>=3.8.3->langchain-community<0.3.0,>=0.2.10->langchain-experimental) (2.3.4)\n",
      "Requirement already satisfied: aiosignal>=1.1.2 in c:\\users\\dell\\appdata\\local\\programs\\python\\python312\\lib\\site-packages (from aiohttp<4.0.0,>=3.8.3->langchain-community<0.3.0,>=0.2.10->langchain-experimental) (1.3.1)\n",
      "Requirement already satisfied: attrs>=17.3.0 in c:\\users\\dell\\appdata\\local\\programs\\python\\python312\\lib\\site-packages (from aiohttp<4.0.0,>=3.8.3->langchain-community<0.3.0,>=0.2.10->langchain-experimental) (24.1.0)\n",
      "Requirement already satisfied: frozenlist>=1.1.1 in c:\\users\\dell\\appdata\\local\\programs\\python\\python312\\lib\\site-packages (from aiohttp<4.0.0,>=3.8.3->langchain-community<0.3.0,>=0.2.10->langchain-experimental) (1.4.1)\n",
      "Requirement already satisfied: multidict<7.0,>=4.5 in c:\\users\\dell\\appdata\\local\\programs\\python\\python312\\lib\\site-packages (from aiohttp<4.0.0,>=3.8.3->langchain-community<0.3.0,>=0.2.10->langchain-experimental) (6.0.5)\n",
      "Requirement already satisfied: yarl<2.0,>=1.0 in c:\\users\\dell\\appdata\\local\\programs\\python\\python312\\lib\\site-packages (from aiohttp<4.0.0,>=3.8.3->langchain-community<0.3.0,>=0.2.10->langchain-experimental) (1.9.4)\n",
      "Requirement already satisfied: marshmallow<4.0.0,>=3.18.0 in c:\\users\\dell\\appdata\\local\\programs\\python\\python312\\lib\\site-packages (from dataclasses-json<0.7,>=0.5.7->langchain-community<0.3.0,>=0.2.10->langchain-experimental) (3.21.3)\n",
      "Requirement already satisfied: typing-inspect<1,>=0.4.0 in c:\\users\\dell\\appdata\\local\\programs\\python\\python312\\lib\\site-packages (from dataclasses-json<0.7,>=0.5.7->langchain-community<0.3.0,>=0.2.10->langchain-experimental) (0.9.0)\n",
      "Requirement already satisfied: jsonpointer>=1.9 in c:\\users\\dell\\appdata\\local\\programs\\python\\python312\\lib\\site-packages (from jsonpatch<2.0,>=1.33->langchain-core<0.3.0,>=0.2.27->langchain-experimental) (3.0.0)\n",
      "Requirement already satisfied: langchain-text-splitters<0.3.0,>=0.2.0 in c:\\users\\dell\\appdata\\local\\programs\\python\\python312\\lib\\site-packages (from langchain<0.3.0,>=0.2.12->langchain-community<0.3.0,>=0.2.10->langchain-experimental) (0.2.2)\n",
      "Requirement already satisfied: httpx<1,>=0.23.0 in c:\\users\\dell\\appdata\\local\\programs\\python\\python312\\lib\\site-packages (from langsmith<0.2.0,>=0.1.0->langchain-community<0.3.0,>=0.2.10->langchain-experimental) (0.27.0)\n",
      "Requirement already satisfied: orjson<4.0.0,>=3.9.14 in c:\\users\\dell\\appdata\\local\\programs\\python\\python312\\lib\\site-packages (from langsmith<0.2.0,>=0.1.0->langchain-community<0.3.0,>=0.2.10->langchain-experimental) (3.10.6)\n",
      "Requirement already satisfied: annotated-types>=0.4.0 in c:\\users\\dell\\appdata\\local\\programs\\python\\python312\\lib\\site-packages (from pydantic<3.0.0,>=2.7.4->langchain-core<0.3.0,>=0.2.27->langchain-experimental) (0.7.0)\n",
      "Requirement already satisfied: pydantic-core==2.20.1 in c:\\users\\dell\\appdata\\local\\programs\\python\\python312\\lib\\site-packages (from pydantic<3.0.0,>=2.7.4->langchain-core<0.3.0,>=0.2.27->langchain-experimental) (2.20.1)\n",
      "Requirement already satisfied: charset-normalizer<4,>=2 in c:\\users\\dell\\appdata\\local\\programs\\python\\python312\\lib\\site-packages (from requests<3,>=2->langchain-community<0.3.0,>=0.2.10->langchain-experimental) (3.3.2)\n",
      "Requirement already satisfied: idna<4,>=2.5 in c:\\users\\dell\\appdata\\local\\programs\\python\\python312\\lib\\site-packages (from requests<3,>=2->langchain-community<0.3.0,>=0.2.10->langchain-experimental) (3.7)\n",
      "Requirement already satisfied: urllib3<3,>=1.21.1 in c:\\users\\dell\\appdata\\local\\programs\\python\\python312\\lib\\site-packages (from requests<3,>=2->langchain-community<0.3.0,>=0.2.10->langchain-experimental) (2.2.2)\n",
      "Requirement already satisfied: certifi>=2017.4.17 in c:\\users\\dell\\appdata\\local\\programs\\python\\python312\\lib\\site-packages (from requests<3,>=2->langchain-community<0.3.0,>=0.2.10->langchain-experimental) (2024.7.4)\n",
      "Requirement already satisfied: greenlet!=0.4.17 in c:\\users\\dell\\appdata\\local\\programs\\python\\python312\\lib\\site-packages (from SQLAlchemy<3,>=1.4->langchain-community<0.3.0,>=0.2.10->langchain-experimental) (3.0.3)\n",
      "Requirement already satisfied: anyio in c:\\users\\dell\\appdata\\local\\programs\\python\\python312\\lib\\site-packages (from httpx<1,>=0.23.0->langsmith<0.2.0,>=0.1.0->langchain-community<0.3.0,>=0.2.10->langchain-experimental) (4.4.0)\n",
      "Requirement already satisfied: httpcore==1.* in c:\\users\\dell\\appdata\\local\\programs\\python\\python312\\lib\\site-packages (from httpx<1,>=0.23.0->langsmith<0.2.0,>=0.1.0->langchain-community<0.3.0,>=0.2.10->langchain-experimental) (1.0.5)\n",
      "Requirement already satisfied: sniffio in c:\\users\\dell\\appdata\\local\\programs\\python\\python312\\lib\\site-packages (from httpx<1,>=0.23.0->langsmith<0.2.0,>=0.1.0->langchain-community<0.3.0,>=0.2.10->langchain-experimental) (1.3.1)\n",
      "Requirement already satisfied: h11<0.15,>=0.13 in c:\\users\\dell\\appdata\\local\\programs\\python\\python312\\lib\\site-packages (from httpcore==1.*->httpx<1,>=0.23.0->langsmith<0.2.0,>=0.1.0->langchain-community<0.3.0,>=0.2.10->langchain-experimental) (0.14.0)\n",
      "Requirement already satisfied: mypy-extensions>=0.3.0 in c:\\users\\dell\\appdata\\local\\programs\\python\\python312\\lib\\site-packages (from typing-inspect<1,>=0.4.0->dataclasses-json<0.7,>=0.5.7->langchain-community<0.3.0,>=0.2.10->langchain-experimental) (1.0.0)\n"
     ]
    }
   ],
   "source": [
    "!pip install langchain-experimental\n"
   ]
  },
  {
   "cell_type": "code",
   "execution_count": 14,
   "id": "06bdf096-1743-4490-ad9c-ca4b3924ae4b",
   "metadata": {},
   "outputs": [],
   "source": [
    "from langchain_experimental.agents import create_csv_agent\n",
    "from langchain_openai import OpenAI\n"
   ]
  },
  {
   "cell_type": "code",
   "execution_count": 15,
   "id": "172812bb-3393-44fd-a2c2-a7aac9c92e72",
   "metadata": {},
   "outputs": [],
   "source": [
    "from langchain_experimental.agents import create_csv_agent\n",
    "from langchain_openai import ChatOpenAI\n",
    "def summarize_text(text_chunk):\n",
    "    # Initialize the LLM model for summarization\n",
    "    model = ChatOpenAI(model=\"gpt-3.5-turbo\")  # or \"gpt-4\"\n",
    "\n",
    "    # Define the prompt as a message for the chat model\n",
    "    messages = [\n",
    "        {\"role\": \"system\", \"content\": \"You are an expert summarizer.\"},\n",
    "        {\"role\": \"user\", \"content\": f\"Summarize the following text:\\n{text_chunk}\"}\n",
    "    ]\n",
    "\n",
    "    # Generate the summary using `invoke`\n",
    "    response = model.invoke(messages)\n",
    "    \n",
    "    # Inspect the response type and content\n",
    "    summary = response.content.strip()  # Access `content` attribute directly\n",
    "    return summary\n",
    "\n",
    "\n",
    "\n",
    "\n"
   ]
  },
  {
   "cell_type": "code",
   "execution_count": 16,
   "id": "576eb9ab-e1e1-4a55-9bf4-a6fb705b6b42",
   "metadata": {},
   "outputs": [
    {
     "name": "stderr",
     "output_type": "stream",
     "text": [
      "C:\\Users\\DELL\\AppData\\Local\\Temp\\ipykernel_8548\\4285666998.py:8: LangChainDeprecationWarning: The method `Chain.run` was deprecated in langchain 0.1.0 and will be removed in 0.3.0. Use invoke instead.\n",
      "  return qa_chain.run(query)\n"
     ]
    },
    {
     "name": "stdout",
     "output_type": "stream",
     "text": [
      "An Automated Teller Machine (ATM) is a machine that allows users to perform basic banking transactions, such as withdrawing and depositing cash, checking account balances, and transferring funds.\n"
     ]
    }
   ],
   "source": [
    "# Example usage\n",
    "# Sample usage within the main function or a script\n",
    "llm_model = ChatOpenAI(model=\"gpt-3.5-turbo\")\n",
    "query = \"ATM stands for?\"\n",
    "answer = retrieve_and_answer(vector_db, query, llm_model)\n",
    "summary = summarize_text(answer)\n",
    "print(summary)\n"
   ]
  },
  {
   "cell_type": "code",
   "execution_count": null,
   "id": "e8bd5a09-970d-4445-b386-3682724aaca5",
   "metadata": {
    "scrolled": true
   },
   "outputs": [],
   "source": [
    "pip install --upgrade langsmith\n"
   ]
  },
  {
   "cell_type": "code",
   "execution_count": 29,
   "id": "cc55b86d-9391-481e-b253-8bf3a917a444",
   "metadata": {
    "scrolled": true
   },
   "outputs": [
    {
     "name": "stdout",
     "output_type": "stream",
     "text": [
      "Note: you may need to restart the kernel to use updated packages.\n"
     ]
    },
    {
     "name": "stderr",
     "output_type": "stream",
     "text": [
      "ERROR: Invalid requirement: '-': Expected package name at the start of dependency specifier\n",
      "    -\n",
      "    ^\n"
     ]
    }
   ],
   "source": [
    "pip install - U langsmith"
   ]
  },
  {
   "cell_type": "code",
   "execution_count": 30,
   "id": "688f2e70-6eb7-4626-892f-e144ae37d0a6",
   "metadata": {},
   "outputs": [],
   "source": [
    "from langsmith import Client as LangSmithClient"
   ]
  },
  {
   "cell_type": "code",
   "execution_count": 31,
   "id": "f4bb208f-b4f4-427c-b246-2e1cb2736205",
   "metadata": {},
   "outputs": [],
   "source": [
    "from openai import OpenAI\n",
    "from langsmith import wrappers\n",
    "\n",
    "client = wrappers.wrap_openai(OpenAI())"
   ]
  },
  {
   "cell_type": "code",
   "execution_count": 21,
   "id": "685e7b6f-2fd9-422b-bf96-3f484b8a451c",
   "metadata": {},
   "outputs": [
    {
     "data": {
      "text/plain": [
       "ChatCompletion(id='chatcmpl-A20sTconp4ohfFjpLm29XrDzc7vnU', choices=[Choice(finish_reason='stop', index=0, logprobs=None, message=ChatCompletionMessage(content='This is a test.', refusal=None, role='assistant', function_call=None, tool_calls=None))], created=1725043393, model='gpt-4-0613', object='chat.completion', service_tier=None, system_fingerprint=None, usage=CompletionUsage(completion_tokens=5, prompt_tokens=12, total_tokens=17))"
      ]
     },
     "execution_count": 21,
     "metadata": {},
     "output_type": "execute_result"
    }
   ],
   "source": [
    "client.chat.completions.create(\n",
    "    model=\"gpt-3.5-turbo\",\n",
    "    messages=[{\"role\": \"user\", \"content\": \"Say this is a test\"}],\n",
    ")"
   ]
  },
  {
   "cell_type": "code",
   "execution_count": 22,
   "id": "bace6296-98de-42ad-b828-4dd86d9c8e3c",
   "metadata": {},
   "outputs": [
    {
     "data": {
      "text/plain": [
       "ChatCompletion(id='chatcmpl-A20sVTqNCitEq5F0O55n14sAWTSkn', choices=[Choice(finish_reason='stop', index=0, logprobs=None, message=ChatCompletionMessage(content='Hello world!', refusal=None, role='assistant', function_call=None, tool_calls=None))], created=1725043395, model='gpt-4-0613', object='chat.completion', service_tier=None, system_fingerprint=None, usage=CompletionUsage(completion_tokens=3, prompt_tokens=10, total_tokens=13))"
      ]
     },
     "execution_count": 22,
     "metadata": {},
     "output_type": "execute_result"
    }
   ],
   "source": [
    "from langsmith import traceable\n",
    "\n",
    "@traceable\n",
    "def my_function(text: str):\n",
    "    return client.chat.completions.create(\n",
    "        model=\"gpt-4\",\n",
    "        messages=[{\"role\": \"user\", \"content\": f\"Say {text}\"}],\n",
    "    )\n",
    "\n",
    "my_function(\"hello world\")"
   ]
  },
  {
   "cell_type": "code",
   "execution_count": 52,
   "id": "dfe4cdd5-c2df-4afc-93f8-429293cba1bf",
   "metadata": {},
   "outputs": [
    {
     "name": "stdout",
     "output_type": "stream",
     "text": [
      "Failed to log interaction: Exactly one argument in each of the following groups must be defined: dataset_id, dataset_name\n"
     ]
    }
   ],
   "source": [
    "import os\n",
    "from langsmith import Client\n",
    "\n",
    "def track_interaction(query, response):\n",
    "    # Retrieve API key from environment variable\n",
    "    api_key = os.getenv(\"LANGSMITH_API_KEY\")\n",
    "    if not api_key:\n",
    "        raise ValueError(\"API key for LangSmith is missing.\")\n",
    "    \n",
    "    # Initialize the LangSmith Client with the API key\n",
    "    client = Client(api_key=api_key)\n",
    "    \n",
    "    try:\n",
    "        # Log interaction as an example\n",
    "        client.create_example(prompt=query, completion=response)  # Replace with actual parameters if needed\n",
    "    except AttributeError:\n",
    "        print(\"The 'Client' object does not have the expected method. Please check the LangSmith API documentation.\")\n",
    "    except Exception as e:\n",
    "        print(f\"Failed to log interaction: {e}\")\n",
    "\n",
    "# Example usage\n",
    "query = \"What are the benefits of regular exercise?\"\n",
    "response = \"Regular exercise has many benefits including improved cardiovascular health, better mood, and increased longevity.\"\n",
    "track_interaction(query, response)\n"
   ]
  },
  {
   "cell_type": "code",
   "execution_count": 51,
   "id": "d215f071",
   "metadata": {},
   "outputs": [
    {
     "name": "stdout",
     "output_type": "stream",
     "text": [
      "['__class__', '__delattr__', '__dir__', '__doc__', '__eq__', '__format__', '__ge__', '__getattribute__', '__getstate__', '__gt__', '__hash__', '__init__', '__init_subclass__', '__le__', '__lt__', '__module__', '__ne__', '__new__', '__reduce__', '__reduce_ex__', '__repr__', '__setattr__', '__sizeof__', '__slots__', '__str__', '__subclasshook__', '__weakref__', '_anonymizer', '_create_run', '_current_tenant_is_owner', '_filter_for_sampling', '_get_cursor_paginated_list', '_get_data_type', '_get_data_type_cached', '_get_latest_commit_hash', '_get_optional_tenant_id', '_get_paginated_list', '_get_prompt_url', '_get_settings', '_get_tenant_id', '_headers', '_hide_inputs', '_hide_outputs', '_hide_run_inputs', '_hide_run_outputs', '_host', '_host_url', '_info', '_insert_runtime_env', '_like_or_unlike_prompt', '_load_child_runs', '_log_evaluation_feedback', '_owner_conflict_error', '_post_batch_ingest_runs', '_prompt_exists', '_repr_html_', '_resolve_example_id', '_resolve_run_id', '_run_transform', '_sampled_post_uuids', '_select_eval_results', '_settings', '_tenant_id', '_update_run', '_web_url', '_write_api_urls', 'add_runs_to_annotation_queue', 'aevaluate_run', 'api_key', 'api_url', 'arun_on_dataset', 'batch_ingest_runs', 'clone_public_dataset', 'create_annotation_queue', 'create_chat_example', 'create_commit', 'create_comparative_experiment', 'create_dataset', 'create_example', 'create_example_from_run', 'create_examples', 'create_feedback', 'create_feedback_from_token', 'create_llm_example', 'create_presigned_feedback_token', 'create_presigned_feedback_tokens', 'create_project', 'create_prompt', 'create_run', 'delete_annotation_queue', 'delete_dataset', 'delete_example', 'delete_feedback', 'delete_project', 'delete_prompt', 'diff_dataset_versions', 'evaluate_run', 'get_prompt', 'get_run_stats', 'get_run_url', 'get_test_results', 'has_dataset', 'has_project', 'info', 'like_prompt', 'list_annotation_queues', 'list_dataset_splits', 'list_dataset_versions', 'list_datasets', 'list_examples', 'list_feedback', 'list_presigned_feedback_tokens', 'list_projects', 'list_prompts', 'list_runs', 'list_runs_from_annotation_queue', 'list_shared_examples', 'list_shared_projects', 'list_shared_runs', 'pull_prompt', 'pull_prompt_commit', 'push_prompt', 'read_annotation_queue', 'read_dataset', 'read_dataset_openai_finetuning', 'read_dataset_shared_schema', 'read_dataset_version', 'read_example', 'read_feedback', 'read_project', 'read_run', 'read_run_shared_link', 'read_shared_dataset', 'read_shared_run', 'request_with_retries', 'retry_config', 'run_is_shared', 'run_on_dataset', 'session', 'share_dataset', 'share_run', 'timeout_ms', 'tracing_queue', 'tracing_sample_rate', 'unlike_prompt', 'unshare_dataset', 'unshare_run', 'update_annotation_queue', 'update_dataset_splits', 'update_dataset_tag', 'update_example', 'update_examples', 'update_feedback', 'update_project', 'update_prompt', 'update_run', 'upload_csv', 'upload_dataframe']\n"
     ]
    }
   ],
   "source": [
    "import os\n",
    "from langsmith import Client\n",
    "\n",
    "# Initialize LangSmith Client\n",
    "api_key = os.getenv(\"LANGSMITH_API_KEY\")  # Replace with actual API key\n",
    "client = Client(api_key=api_key)\n",
    "\n",
    "# Print available methods and attributes\n",
    "print(dir(client))"
   ]
  },
  {
   "cell_type": "code",
   "execution_count": 39,
   "id": "fe85b973-7575-4c34-9b72-30864b19f01b",
   "metadata": {},
   "outputs": [],
   "source": [
    "import logging\n",
    "\n",
    "# Configure logging\n",
    "logging.basicConfig(filename='interactions.log', level=logging.INFO, format='%(asctime)s - %(message)s')\n",
    "\n",
    "def track_interaction(query, response):\n",
    "    # Log the interaction\n",
    "    logging.info(f\"Query: {query}\\nResponse: {response}\")\n",
    "\n",
    "# Example usage\n",
    "query = \"What are the benefits of regular exercise?\"\n",
    "response = retrieve_and_answer(vector_db, query, llm_model)\n",
    "track_interaction(query, response)"
   ]
  },
  {
   "cell_type": "code",
   "execution_count": null,
   "id": "dd1d41fd-4e19-48cc-b877-9d9086dc19ce",
   "metadata": {},
   "outputs": [],
   "source": []
  },
  {
   "cell_type": "code",
   "execution_count": null,
   "id": "560fa55b-11c1-44ce-a346-ab4d62975aed",
   "metadata": {},
   "outputs": [],
   "source": []
  }
 ],
 "metadata": {
  "kernelspec": {
   "display_name": "Python 3 (ipykernel)",
   "language": "python",
   "name": "python3"
  },
  "language_info": {
   "codemirror_mode": {
    "name": "ipython",
    "version": 3
   },
   "file_extension": ".py",
   "mimetype": "text/x-python",
   "name": "python",
   "nbconvert_exporter": "python",
   "pygments_lexer": "ipython3",
   "version": "3.12.4"
  }
 },
 "nbformat": 4,
 "nbformat_minor": 5
}
